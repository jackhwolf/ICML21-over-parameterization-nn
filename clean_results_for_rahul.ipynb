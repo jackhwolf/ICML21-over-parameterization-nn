{
 "cells": [
  {
   "cell_type": "code",
   "execution_count": 1,
   "metadata": {},
   "outputs": [],
   "source": [
    "from experiment import ResultsViewer\n",
    "from scipy.io import savemat, loadmat\n",
    "import numpy as np\n",
    "from torch import load\n",
    "from data import Data\n",
    "from model import Model\n",
    "import json\n",
    "import yaml\n",
    "import os\n",
    "\n",
    "paths = [\n",
    "    \"experiments/FIXED/w_v_low_rank_regularized_10_datasets\",\n",
    "    \"experiments/FIXED/w_v_low_rank_regularized_10_datasets_123\",\n",
    "    \"experiments/FIXED/w_v_low_rank_regularized_10_datasets_45\",\n",
    "    \"experiments/FIXED/w_v_low_rank_regularized_10_datasets_67\",\n",
    "    \"experiments/FIXED/w_v_low_rank_regularized_10_datasets_89\"\n",
    "]\n",
    "\n",
    "newdir = \"experiments/Jun4/w_v_low_rank_fixed\"\n",
    "os.makedirs(newdir, exist_ok=True)\n",
    "\n",
    "def get_data_model(foo):\n",
    "    data = Data(foo['data']['D'])\n",
    "    data.load(foo['data']['data_id'])\n",
    "    model = Model(foo['data']['D'], **foo['model'])\n",
    "    model.load_state_dict(load(foo['state_dict_path']))\n",
    "    return data, model\n",
    "\n",
    "def rewrite_model(foo, model):\n",
    "    path = newdir + \"/\" + foo['matlab_path'].split(\"/\")[-1] + '-fixed'\n",
    "    mat = model.state_dict_matlab()\n",
    "    savemat(path, mat)\n",
    "    return path, mat\n",
    "\n",
    "def mse_regterm(data, model):\n",
    "    x, y = data.training_data()\n",
    "    pred = model.predict(x)\n",
    "    mse = (np.sum(np.power(pred-y,2)) / pred.size).item()\n",
    "    rterm = model.regularization_value_metric().detach().numpy().item()\n",
    "    return mse, rterm\n",
    "\n",
    "def rewrite_all_in_dir(paths):\n",
    "    fixed_res = []\n",
    "    for path in paths:\n",
    "        results = ResultsViewer(path)\n",
    "        for i in range(len(results)):\n",
    "            data, model = get_data_model(results[i])\n",
    "            path, mat = rewrite_model(results[i], model)\n",
    "            by_epoch = results[i]['report']['Sparsity by Epoch']\n",
    "            mse, term = mse_regterm(data, model)\n",
    "            new_res = {\n",
    "                \"matlab_path\": results[i]['matlab_path'].split(\"/\")[-1] + '-fixed',\n",
    "                \"regularization_value\": term, \n",
    "                \"MSE\": mse,\n",
    "                \"final_sparsity\": results[i]['report']['Sparsity'],\n",
    "                \"sparsity_by_epoch\": results[i]['report']['Sparsity by Epoch'],\n",
    "            }\n",
    "            new_res.update(results[i]['model'].copy())\n",
    "            fixed_res.append(new_res)\n",
    "    fixed_path = newdir + \"/results-rahul.json\"\n",
    "    with open(fixed_path, \"w\") as fp:\n",
    "        fp.write(json.dumps(fixed_res))\n",
    "    return fixed_path, fixed_res"
   ]
  },
  {
   "cell_type": "code",
   "execution_count": 2,
   "metadata": {},
   "outputs": [],
   "source": [
    "path, res = rewrite_all_in_dir(paths)"
   ]
  },
  {
   "cell_type": "code",
   "execution_count": null,
   "metadata": {},
   "outputs": [],
   "source": []
  }
 ],
 "metadata": {
  "kernelspec": {
   "display_name": "Python 3",
   "language": "python",
   "name": "python3"
  },
  "language_info": {
   "codemirror_mode": {
    "name": "ipython",
    "version": 3
   },
   "file_extension": ".py",
   "mimetype": "text/x-python",
   "name": "python",
   "nbconvert_exporter": "python",
   "pygments_lexer": "ipython3",
   "version": "3.7.3"
  }
 },
 "nbformat": 4,
 "nbformat_minor": 4
}
