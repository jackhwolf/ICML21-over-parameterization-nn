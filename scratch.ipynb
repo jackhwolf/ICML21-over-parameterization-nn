{
 "cells": [
  {
   "cell_type": "code",
   "execution_count": 1,
   "metadata": {},
   "outputs": [
    {
     "name": "stdout",
     "output_type": "stream",
     "text": [
      "(0, {'D': 4, 'block_architecture': False, 'epochs': 1, 'layers': 2, 'learning_rate': '1e-3', 'linear_width': 16, 'regularization_lambda': '1e-1', 'regularization_method': 'standard_wd', 'relu_width': 1296, 'weight_decay': 0})\n",
      "(0, {'D': 4, 'block_architecture': False, 'epochs': 1, 'layers': 2, 'learning_rate': '1e-3', 'linear_width': 16, 'regularization_lambda': '1e-1', 'regularization_method': 'term2', 'relu_width': 1296, 'weight_decay': 0})\n",
      "(0, {'D': 4, 'block_architecture': False, 'epochs': 1, 'layers': 2, 'learning_rate': '1e-3', 'linear_width': 16, 'regularization_lambda': '1e-1', 'regularization_method': 'none', 'relu_width': 1296, 'weight_decay': 0})\n",
      "(0, {'D': 4, 'block_architecture': False, 'epochs': 1, 'layers': 2, 'learning_rate': '1e-3', 'linear_width': 16, 'regularization_lambda': '1e-3', 'regularization_method': 'standard_wd', 'relu_width': 1296, 'weight_decay': 0})\n",
      "(0, {'D': 4, 'block_architecture': False, 'epochs': 1, 'layers': 2, 'learning_rate': '1e-3', 'linear_width': 16, 'regularization_lambda': '1e-3', 'regularization_method': 'term2', 'relu_width': 1296, 'weight_decay': 0})\n",
      "(0, {'D': 4, 'block_architecture': False, 'epochs': 1, 'layers': 2, 'learning_rate': '1e-3', 'linear_width': 16, 'regularization_lambda': '1e-5', 'regularization_method': 'standard_wd', 'relu_width': 1296, 'weight_decay': 0})\n",
      "(0, {'D': 4, 'block_architecture': False, 'epochs': 1, 'layers': 2, 'learning_rate': '1e-3', 'linear_width': 16, 'regularization_lambda': '1e-5', 'regularization_method': 'term2', 'relu_width': 1296, 'weight_decay': 0})\n",
      "(2, {'D': 4, 'block_architecture': False, 'epochs': 1, 'layers': 2, 'learning_rate': '1e-3', 'linear_width': 16, 'regularization_lambda': '1e-1', 'regularization_method': 'standard_wd', 'relu_width': 1296, 'weight_decay': 0})\n",
      "(2, {'D': 4, 'block_architecture': False, 'epochs': 1, 'layers': 2, 'learning_rate': '1e-3', 'linear_width': 16, 'regularization_lambda': '1e-1', 'regularization_method': 'term2', 'relu_width': 1296, 'weight_decay': 0})\n",
      "(2, {'D': 4, 'block_architecture': False, 'epochs': 1, 'layers': 2, 'learning_rate': '1e-3', 'linear_width': 16, 'regularization_lambda': '1e-1', 'regularization_method': 'none', 'relu_width': 1296, 'weight_decay': 0})\n",
      "(2, {'D': 4, 'block_architecture': False, 'epochs': 1, 'layers': 2, 'learning_rate': '1e-3', 'linear_width': 16, 'regularization_lambda': '1e-3', 'regularization_method': 'standard_wd', 'relu_width': 1296, 'weight_decay': 0})\n",
      "(2, {'D': 4, 'block_architecture': False, 'epochs': 1, 'layers': 2, 'learning_rate': '1e-3', 'linear_width': 16, 'regularization_lambda': '1e-3', 'regularization_method': 'term2', 'relu_width': 1296, 'weight_decay': 0})\n",
      "(2, {'D': 4, 'block_architecture': False, 'epochs': 1, 'layers': 2, 'learning_rate': '1e-3', 'linear_width': 16, 'regularization_lambda': '1e-5', 'regularization_method': 'standard_wd', 'relu_width': 1296, 'weight_decay': 0})\n",
      "(2, {'D': 4, 'block_architecture': False, 'epochs': 1, 'layers': 2, 'learning_rate': '1e-3', 'linear_width': 16, 'regularization_lambda': '1e-5', 'regularization_method': 'term2', 'relu_width': 1296, 'weight_decay': 0})\n"
     ]
    }
   ],
   "source": [
    "from deploy import YamlInput\n",
    "\n",
    "yi = YamlInput('inputs/sample.yaml')\n",
    "\n",
    "for f in yi.iterate_inputs():\n",
    "  print(f)"
   ]
  },
  {
   "cell_type": "code",
   "execution_count": null,
   "metadata": {},
   "outputs": [],
   "source": []
  }
 ],
 "metadata": {
  "kernelspec": {
   "display_name": "Python 3",
   "language": "python",
   "name": "python3"
  },
  "language_info": {
   "codemirror_mode": {
    "name": "ipython",
    "version": 3
   },
   "file_extension": ".py",
   "mimetype": "text/x-python",
   "name": "python",
   "nbconvert_exporter": "python",
   "pygments_lexer": "ipython3",
   "version": "3.8.5"
  }
 },
 "nbformat": 4,
 "nbformat_minor": 4
}
