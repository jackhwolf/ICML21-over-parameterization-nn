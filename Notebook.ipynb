{
 "cells": [
  {
   "cell_type": "code",
   "execution_count": 3,
   "metadata": {},
   "outputs": [],
   "source": [
    "from experiment import ResultsViewer\n",
    "from IPython.display import Image\n",
    "import torch\n",
    "from scipy.io import savemat, loadmat\n",
    "import os"
   ]
  },
  {
   "cell_type": "code",
   "execution_count": 4,
   "metadata": {},
   "outputs": [],
   "source": [
    "res = ResultsViewer(\"experiments/experiment_1_server\")\n",
    "\n",
    "def lookup(results, *filters):\n",
    "  r = []\n",
    "  for res in results:\n",
    "    skip = False\n",
    "    for f in filters:\n",
    "      if not f(res):\n",
    "        skip = True\n",
    "        break\n",
    "    if not skip:\n",
    "      r.append(res)\n",
    "  return r\n",
    "\n",
    "def save_to_matlab(res):\n",
    "  os.makedirs(\"matlab_models\", exist_ok=True)\n",
    "  W = []\n",
    "  V = []\n",
    "  skip = []\n",
    "  out2 = {}\n",
    "  sd = torch.load(res['state_dict_path'])\n",
    "  for i in range(res['model']['layers']):\n",
    "    key = 'blocks.{}.{}.weight'\n",
    "    w = sd[key.format(i, 'W')].numpy()\n",
    "    v = sd[key.format(i, 'V')].numpy()  \n",
    "    s = sd[key.format(i, 'skip_l')].numpy()  \n",
    "    W.append(w)\n",
    "    V.append(v)\n",
    "    skip.append(s)\n",
    "    out2[f'W_{i}'] = w\n",
    "    out2[f'V_{i}'] = v\n",
    "    out2[f'skip_{i}'] = s\n",
    "  out = {\"W\": W, \"V\": V, \"skip\": skip}\n",
    "  fname = f\"D={res['data']['D']}_Term={res['model']['regularization_method']}_Lam={res['model']['regularization_lambda']}.mat\"\n",
    "  savemat(\"matlab_models/\" + fname, out2)"
   ]
  },
  {
   "cell_type": "code",
   "execution_count": 6,
   "metadata": {},
   "outputs": [
    {
     "data": {
      "text/plain": [
       "1"
      ]
     },
     "execution_count": 6,
     "metadata": {},
     "output_type": "execute_result"
    }
   ],
   "source": [
    "r = lookup(\n",
    "  res,\n",
    "  lambda x: x['model']['regularization_method'] == 2,\n",
    "  lambda x: x['model']['regularization_lambda'] == 0.001,\n",
    ")\n",
    "len(r)"
   ]
  },
  {
   "cell_type": "code",
   "execution_count": 10,
   "metadata": {},
   "outputs": [
    {
     "data": {
      "text/plain": [
       "'experiments/experiment_1_server'"
      ]
     },
     "execution_count": 10,
     "metadata": {},
     "output_type": "execute_result"
    }
   ],
   "source": [
    "os.path.dirname(r[0]['interpolation_sparsity_path'])"
   ]
  },
  {
   "cell_type": "code",
   "execution_count": null,
   "metadata": {},
   "outputs": [],
   "source": []
  }
 ],
 "metadata": {
  "kernelspec": {
   "display_name": "ICML",
   "language": "python",
   "name": "icml"
  },
  "language_info": {
   "codemirror_mode": {
    "name": "ipython",
    "version": 3
   },
   "file_extension": ".py",
   "mimetype": "text/x-python",
   "name": "python",
   "nbconvert_exporter": "python",
   "pygments_lexer": "ipython3",
   "version": "3.8.5"
  }
 },
 "nbformat": 4,
 "nbformat_minor": 4
}
