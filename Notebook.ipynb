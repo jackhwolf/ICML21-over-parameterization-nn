{
 "cells": [
  {
   "cell_type": "code",
   "execution_count": 1,
   "metadata": {},
   "outputs": [],
   "source": [
    "from experiment import ResultsViewer\n",
    "from IPython.display import Image\n",
    "import torch\n",
    "from scipy.io import savemat, loadmat\n",
    "import os"
   ]
  },
  {
   "cell_type": "code",
   "execution_count": 8,
   "metadata": {},
   "outputs": [],
   "source": [
    "results = ResultsViewer(\"experiments/experiment_1_server\")\n",
    "\n",
    "def lookup(results, *filters):\n",
    "  r = []\n",
    "  for res in results:\n",
    "    skip = False\n",
    "    for f in filters:\n",
    "      if not f(res):\n",
    "        skip = True\n",
    "        break\n",
    "    if not skip:\n",
    "      r.append(res)\n",
    "  return r\n",
    "\n",
    "def model_to_matlab(res):\n",
    "  W = []\n",
    "  V = []\n",
    "  skip = []\n",
    "  out = {}\n",
    "  sd = torch.load(res['state_dict_path'])\n",
    "  for i in range(res['model']['layers']):\n",
    "    key = 'blocks.{}.{}.weight'\n",
    "    w = sd[key.format(i, 'W')].numpy()\n",
    "    v = sd[key.format(i, 'V')].numpy()  \n",
    "    s = sd[key.format(i, 'skip_l')].numpy()  \n",
    "    W.append(w)\n",
    "    V.append(v)\n",
    "    skip.append(s)\n",
    "    out[f'W_{i}'] = w\n",
    "    out[f'V_{i}'] = v\n",
    "    out[f'skip_{i}'] = s\n",
    "  fname = f\"D={res['data']['D']}_Term={res['model']['regularization_method']}_Lam={res['model']['regularization_lambda']}.mat\"\n",
    "  return fname, out\n",
    "  \n",
    "def save_matlab(results):\n",
    "  new_results = []\n",
    "  pardir = results.results_dir\n",
    "  for res in results:\n",
    "    print(pardir)\n",
    "    res = res.copy()\n",
    "    fname, matlab_out = model_to_matlab(res)"
   ]
  },
  {
   "cell_type": "code",
   "execution_count": 9,
   "metadata": {},
   "outputs": [
    {
     "name": "stdout",
     "output_type": "stream",
     "text": [
      "experiments/experiment_1_server\n",
      "experiments/experiment_1_server\n",
      "experiments/experiment_1_server\n",
      "experiments/experiment_1_server\n",
      "experiments/experiment_1_server\n",
      "experiments/experiment_1_server\n"
     ]
    }
   ],
   "source": [
    "save_matlab(results)"
   ]
  },
  {
   "cell_type": "code",
   "execution_count": null,
   "metadata": {},
   "outputs": [],
   "source": []
  }
 ],
 "metadata": {
  "kernelspec": {
   "display_name": "ICML",
   "language": "python",
   "name": "icml"
  },
  "language_info": {
   "codemirror_mode": {
    "name": "ipython",
    "version": 3
   },
   "file_extension": ".py",
   "mimetype": "text/x-python",
   "name": "python",
   "nbconvert_exporter": "python",
   "pygments_lexer": "ipython3",
   "version": "3.8.5"
  }
 },
 "nbformat": 4,
 "nbformat_minor": 4
}
