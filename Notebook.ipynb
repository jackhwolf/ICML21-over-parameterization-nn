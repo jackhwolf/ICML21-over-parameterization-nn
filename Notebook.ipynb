{
 "cells": [
  {
   "cell_type": "code",
   "execution_count": 1,
   "metadata": {},
   "outputs": [],
   "source": [
    "from experiment import ResultsViewer\n",
    "from IPython.display import Image\n",
    "import torch\n",
    "from scipy.io import savemat, loadmat\n",
    "import os\n",
    "import json"
   ]
  },
  {
   "cell_type": "code",
   "execution_count": 3,
   "metadata": {},
   "outputs": [],
   "source": [
    "results = ResultsViewer(\"experiments/se1_fc\")\n",
    "\n",
    "def lookup(results, *filters):\n",
    "  r = []\n",
    "  for res in results:\n",
    "    skip = False\n",
    "    for f in filters:\n",
    "      if not f(res):\n",
    "        skip = True\n",
    "        break\n",
    "    if not skip:\n",
    "      r.append(res.copy())\n",
    "  return r\n",
    "\n"
   ]
  },
  {
   "cell_type": "code",
   "execution_count": 4,
   "metadata": {},
   "outputs": [],
   "source": [
    "t1l1 = lookup(results, \n",
    "            lambda foo: foo['model']['regularization_method'] == 1 and foo['model']['layers'] == 1,\n",
    "             lambda foo: os.path.exists(\"\"))"
   ]
  },
  {
   "cell_type": "code",
   "execution_count": 6,
   "metadata": {},
   "outputs": [
    {
     "data": {
      "text/plain": [
       "12"
      ]
     },
     "execution_count": 6,
     "metadata": {},
     "output_type": "execute_result"
    }
   ],
   "source": [
    "len(t1l1)"
   ]
  },
  {
   "cell_type": "code",
   "execution_count": 12,
   "metadata": {},
   "outputs": [
    {
     "data": {
      "text/plain": [
       "'experiments/server_e1/D=4_R=1296_L=1296_Term=1_Layers=1_Lam=0.001.mat'"
      ]
     },
     "execution_count": 12,
     "metadata": {},
     "output_type": "execute_result"
    }
   ],
   "source": [
    "results[0]['matlab_path']"
   ]
  },
  {
   "cell_type": "code",
   "execution_count": null,
   "metadata": {},
   "outputs": [],
   "source": []
  }
 ],
 "metadata": {
  "kernelspec": {
   "display_name": "ICML",
   "language": "python",
   "name": "icml"
  },
  "language_info": {
   "codemirror_mode": {
    "name": "ipython",
    "version": 3
   },
   "file_extension": ".py",
   "mimetype": "text/x-python",
   "name": "python",
   "nbconvert_exporter": "python",
   "pygments_lexer": "ipython3",
   "version": "3.8.5"
  }
 },
 "nbformat": 4,
 "nbformat_minor": 4
}
