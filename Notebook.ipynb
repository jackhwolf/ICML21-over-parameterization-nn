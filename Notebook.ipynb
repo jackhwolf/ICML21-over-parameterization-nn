{
 "cells": [
  {
   "cell_type": "code",
<<<<<<< HEAD
   "execution_count": 1,
=======
   "execution_count": 23,
>>>>>>> 56dc5397de54850b861a1b4a8e9f044d5b6616d3
   "metadata": {},
   "outputs": [],
   "source": [
    "from experiment import ResultsViewer\n",
    "from IPython.display import Image\n",
    "import torch\n",
    "from scipy.io import savemat, loadmat\n",
    "import os\n",
    "import json"
   ]
  },
  {
   "cell_type": "code",
<<<<<<< HEAD
   "execution_count": 3,
   "metadata": {},
   "outputs": [],
   "source": [
    "results = ResultsViewer(\"experiments/se1_fc\")\n",
    "\n",
    "def lookup(results, *filters):\n",
    "  r = []\n",
    "  for res in results:\n",
    "    skip = False\n",
    "    for f in filters:\n",
    "      if not f(res):\n",
    "        skip = True\n",
    "        break\n",
    "    if not skip:\n",
    "      r.append(res.copy())\n",
    "  return r\n",
    "\n"
=======
   "execution_count": 24,
   "metadata": {},
   "outputs": [],
   "source": [
    "results = ResultsViewer(\"experiments/server_e1\")"
>>>>>>> 56dc5397de54850b861a1b4a8e9f044d5b6616d3
   ]
  },
  {
   "cell_type": "code",
<<<<<<< HEAD
   "execution_count": 4,
   "metadata": {},
   "outputs": [],
   "source": [
    "t1l1 = lookup(results, \n",
    "            lambda foo: foo['model']['regularization_method'] == 1 and foo['model']['layers'] == 1,\n",
    "             lambda foo: os.path.exists(\"\"))"
   ]
  },
  {
   "cell_type": "code",
   "execution_count": 6,
   "metadata": {},
   "outputs": [
    {
     "data": {
      "text/plain": [
       "12"
      ]
     },
     "execution_count": 6,
     "metadata": {},
     "output_type": "execute_result"
    }
   ],
   "source": [
    "len(t1l1)"
=======
   "execution_count": 25,
   "metadata": {},
   "outputs": [],
   "source": [
    "def to_matlab(result):\n",
    "    out = {}\n",
    "    key = 'blocks.{}.{}.weight'\n",
    "    sd = torch.load(result['state_dict_path'])\n",
    "    out = {}\n",
    "    for i in range(len(sd)//6):\n",
    "        for sk in ['W', 'V', 'skip_l']:\n",
    "            out[f'{sk}_{i}'] = sd[key.format(i, sk)].numpy()\n",
    "    return out\n",
    "\n",
    "def rewrite_matlab(all_results):\n",
    "    rdir = all_results.results_dir\n",
    "    for res in all_results:\n",
    "        newmat = to_matlab(res)\n",
    "        oldpath = res['matlab_path']\n",
    "        fixpath = oldpath + '-fixed'\n",
    "        savemat(fixpath, newmat)\n"
>>>>>>> 56dc5397de54850b861a1b4a8e9f044d5b6616d3
   ]
  },
  {
   "cell_type": "code",
<<<<<<< HEAD
   "execution_count": 12,
   "metadata": {},
   "outputs": [
    {
     "data": {
      "text/plain": [
       "'experiments/server_e1/D=4_R=1296_L=1296_Term=1_Layers=1_Lam=0.001.mat'"
      ]
     },
     "execution_count": 12,
     "metadata": {},
     "output_type": "execute_result"
    }
   ],
   "source": [
    "results[0]['matlab_path']"
=======
   "execution_count": 30,
   "metadata": {},
   "outputs": [
    {
     "name": "stdout",
     "output_type": "stream",
     "text": [
      "1296 1 0.001\n",
      "0.0\n",
      "======\n",
      "1296 1 0.1\n",
      "0.33\n",
      "======\n",
      "1296 1 0.01\n",
      "0.23\n",
      "======\n",
      "1296 1 0.001\n",
      "0.0\n",
      "======\n",
      "1296 1 0.01\n",
      "0.23\n",
      "======\n",
      "1296 1 0.1\n",
      "0.33\n",
      "======\n",
      "1296 1 0.01\n",
      "0.23\n",
      "======\n",
      "1296 1 0.1\n",
      "0.33\n",
      "======\n",
      "1296 1 0.001\n",
      "0.0\n",
      "======\n",
      "1296 1 0.001\n",
      "0.0\n",
      "======\n",
      "1296 1 0.01\n",
      "0.23\n",
      "======\n",
      "1296 1 0.1\n",
      "0.33\n",
      "======\n",
      "16 2 0.001\n",
      "0.0\n",
      "======\n",
      "16 2 0.1\n",
      "0.33\n",
      "======\n",
      "16 2 0.01\n",
      "0.0\n",
      "======\n",
      "16 1 0.001\n",
      "0.0\n",
      "======\n",
      "16 1 0.01\n",
      "0.23\n",
      "======\n",
      "16 1 0.1\n",
      "0.33\n",
      "======\n",
      "16 2 0.001\n",
      "0.0\n",
      "======\n",
      "16 2 0.01\n",
      "0.0\n",
      "======\n",
      "16 2 0.1\n",
      "0.33\n",
      "======\n",
      "1296 2 0.001\n",
      "0.0\n",
      "======\n",
      "1296 2 0.01\n",
      "0.0\n",
      "======\n",
      "1296 2 0.1\n",
      "0.01\n",
      "======\n",
      "1296 2 0.001\n",
      "0.0\n",
      "======\n",
      "1296 2 0.01\n",
      "0.01\n",
      "======\n",
      "1296 2 0.1\n",
      "0.02\n",
      "======\n",
      "16 1 0.001\n",
      "0.0\n",
      "======\n",
      "16 1 0.01\n",
      "0.23\n",
      "======\n",
      "16 1 0.1\n",
      "0.33\n",
      "======\n",
      "16 2 0.001\n",
      "0.0\n",
      "======\n",
      "16 2 0.01\n",
      "0.0\n",
      "======\n",
      "16 2 0.1\n",
      "0.33\n",
      "======\n"
     ]
    }
   ],
   "source": [
    "for r in results:\n",
    "    print(r['model']['linear_width'], r['model']['layers'], r['model']['regularization_lambda'])\n",
    "    print(r['report']['Eval. MSE'])\n",
    "    print(\"======\")"
>>>>>>> 56dc5397de54850b861a1b4a8e9f044d5b6616d3
   ]
  },
  {
   "cell_type": "code",
   "execution_count": null,
   "metadata": {},
   "outputs": [],
   "source": []
  }
 ],
 "metadata": {
  "kernelspec": {
   "display_name": "ALNet3Kernel",
   "language": "python",
   "name": "alnet3kernel"
  },
  "language_info": {
   "codemirror_mode": {
    "name": "ipython",
    "version": 3
   },
   "file_extension": ".py",
   "mimetype": "text/x-python",
   "name": "python",
   "nbconvert_exporter": "python",
   "pygments_lexer": "ipython3",
   "version": "3.7.3"
  }
 },
 "nbformat": 4,
 "nbformat_minor": 4
}
