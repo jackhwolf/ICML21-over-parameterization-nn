{
 "cells": [
  {
   "cell_type": "code",
   "execution_count": 9,
   "metadata": {},
   "outputs": [],
   "source": [
    "import torch\n",
    "from scipy.io import loadmat\n",
    "import numpy as np\n",
    "\n",
    "def norms(path):\n",
    "    mat = loadmat(path)\n",
    "    norms = {\n",
    "        'W_0': np.sum(np.power(mat['W_0'], 2)),\n",
    "        'W_1': np.sum(np.power(mat['W_1'], 2)),\n",
    "    }\n",
    "    return norms\n",
    "\n",
    "paths = [\n",
    "    \"experiments/FIXED/w_v_architecture_low_rank/D=4_R=1296_L=16_LR=0.001_WD=0_Term=none_Layers=2_Lam=0_E=50000__BlockArch=False.mat\",\n",
    "    \"experiments/FIXED/w_v_architecture_low_rank/D=4_R=1296_L=16_LR=0.001_WD=0_Term=term2_Layers=2_Lam=0.1_E=50000__BlockArch=False.mat\",\n",
    "    \"experiments/FIXED/w_v_architecture_low_rank/D=4_R=1296_L=16_LR=0.001_WD=0_Term=term2_Layers=2_Lam=0.001_E=50000__BlockArch=False.mat\",\n",
    "    \"experiments/FIXED/w_v_architecture_low_rank/D=4_R=1296_L=16_LR=0.001_WD=0.1_Term=standard_wd_Layers=2_Lam=0_E=50000__BlockArch=False.mat\",\n",
    "    \"experiments/FIXED/w_v_architecture_low_rank/D=4_R=1296_L=16_LR=0.001_WD=0.001_Term=standard_wd_Layers=2_Lam=0_E=50000__BlockArch=False.mat\",\n",
    "]"
   ]
  },
  {
   "cell_type": "code",
   "execution_count": 10,
   "metadata": {},
   "outputs": [
    {
     "name": "stdout",
     "output_type": "stream",
     "text": [
      "experiments/FIXED/w_v_architecture_low_rank/D=4_R=1296_L=16_LR=0.001_WD=0_Term=none_Layers=2_Lam=0_E=50000__BlockArch=False.mat\n",
      "{'W_0': 454.3543, 'W_1': 485.4204}\n",
      "========\n",
      "experiments/FIXED/w_v_architecture_low_rank/D=4_R=1296_L=16_LR=0.001_WD=0_Term=term2_Layers=2_Lam=0.1_E=50000__BlockArch=False.mat\n",
      "{'W_0': 1.8929281e-06, 'W_1': 9.216407e-06}\n",
      "========\n",
      "experiments/FIXED/w_v_architecture_low_rank/D=4_R=1296_L=16_LR=0.001_WD=0_Term=term2_Layers=2_Lam=0.001_E=50000__BlockArch=False.mat\n",
      "{'W_0': 8.433519, 'W_1': 7.1992354}\n",
      "========\n",
      "experiments/FIXED/w_v_architecture_low_rank/D=4_R=1296_L=16_LR=0.001_WD=0.1_Term=standard_wd_Layers=2_Lam=0_E=50000__BlockArch=False.mat\n",
      "{'W_0': 3.3656806e-06, 'W_1': 1.14622435e-05}\n",
      "========\n",
      "experiments/FIXED/w_v_architecture_low_rank/D=4_R=1296_L=16_LR=0.001_WD=0.001_Term=standard_wd_Layers=2_Lam=0_E=50000__BlockArch=False.mat\n",
      "{'W_0': 7.4929767, 'W_1': 7.001183}\n",
      "========\n"
     ]
    }
   ],
   "source": [
    "for path in paths:\n",
    "    print(path)\n",
    "    print(norms(path))\n",
    "    print(\"========\")"
   ]
  },
  {
   "cell_type": "code",
   "execution_count": 26,
   "metadata": {},
   "outputs": [
    {
     "name": "stdout",
     "output_type": "stream",
     "text": [
      "experiments/final/all_terms/D=4_R=1296_L=16_LR=0.001_WD=0.001_Term=3_Layers=2_Lam=0_E=50000.mat\n",
      "{'w': 14.52377700805664, 'v': 15.26730728149414, 'rel. diff': 0.05119400229190026}\n",
      "========\n",
      "experiments/final/all_terms/D=4_R=1296_L=16_LR=0.001_WD=0_Term=4_Layers=2_Lam=0.001_E=50000.mat\n",
      "{'w': 14.438959121704102, 'v': 15.22424030303955, 'rel. diff': 0.05438627360299428}\n",
      "========\n",
      "experiments/final/all_terms/D=4_R=1296_L=16_LR=0.001_WD=0_Term=1_Layers=2_Lam=0.01_E=50000.mat\n",
      "{'w': 1.8037847115883778, 'v': 1.6314355605158823, 'rel. diff': 0.09554862615546185}\n",
      "========\n",
      "experiments/final/all_terms/D=4_R=1296_L=16_LR=0.001_WD=0_Term=2_Layers=2_Lam=0.01_E=50000.mat\n",
      "{'w': 1.637637271712265, 'v': 1.446307821007565, 'rel. diff': 0.11683261855945148}\n",
      "========\n"
     ]
    }
   ],
   "source": [
    "for path in epochs_50k:\n",
    "    print(path)\n",
    "    print(w_v_norms(path))\n",
    "    print(\"========\")"
   ]
  },
  {
   "cell_type": "code",
   "execution_count": null,
   "metadata": {},
   "outputs": [],
   "source": []
  }
 ],
 "metadata": {
  "kernelspec": {
   "display_name": "Python 3",
   "language": "python",
   "name": "python3"
  },
  "language_info": {
   "codemirror_mode": {
    "name": "ipython",
    "version": 3
   },
   "file_extension": ".py",
   "mimetype": "text/x-python",
   "name": "python",
   "nbconvert_exporter": "python",
   "pygments_lexer": "ipython3",
   "version": "3.7.3"
  }
 },
 "nbformat": 4,
 "nbformat_minor": 4
}
