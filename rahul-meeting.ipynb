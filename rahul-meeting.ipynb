{
 "cells": [
  {
   "cell_type": "code",
   "execution_count": 1,
   "metadata": {
    "collapsed": true,
    "jupyter": {
     "outputs_hidden": true,
     "source_hidden": true
    },
    "tags": []
   },
   "outputs": [
    {
     "name": "stdout",
     "output_type": "stream",
     "text": [
      "ID: 0, E: 0, LOSS: 43.94742202758789\n",
      "[0.9984567761421204, 0.9982156753540039, 0.9982156753540039, 0.9976851940155029]\n",
      "ID: 0, E: 200, LOSS: 7.633354663848877\n",
      "[0.8790509104728699, 0.7569444179534912, 0.8926504850387573, 0.8541666865348816]\n",
      "ID: 0, E: 400, LOSS: 1.7529494762420654\n",
      "[0.7914737462997437, 0.6865836977958679, 0.7963927388191223, 0.7546296119689941]\n",
      "ID: 0, E: 600, LOSS: 0.5819038152694702\n",
      "[0.7104552388191223, 0.6522473096847534, 0.6874035596847534, 0.707561731338501]\n",
      "ID: 0, E: 800, LOSS: 0.36538568139076233\n",
      "[0.6282793283462524, 0.5987654328346252, 0.4630594253540039, 0.6265432238578796]\n"
     ]
    },
    {
     "data": {
      "text/plain": [
       "(0.3334544897079468,\n",
       " [[0,\n",
       "   [0.9984567761421204,\n",
       "    0.9982156753540039,\n",
       "    0.9982156753540039,\n",
       "    0.9976851940155029]]],\n",
       " [[0, 43.94742202758789]])"
      ]
     },
     "execution_count": 1,
     "metadata": {},
     "output_type": "execute_result"
    }
   ],
   "source": [
    "from model import Model\n",
    "from data import Data\n",
    "import numpy as np\n",
    "from copy import deepcopy\n",
    "d = Data(4)\n",
    "d.load()\n",
    "x, y = d.training_data()\n",
    "m1 = Model(4, 1296, 16, layers=2, regularization_method=1, epochs=1000)\n",
    "# m2 = Model(4, 1296, 16, layers=2, regularization_method=2, epochs=100)\n",
    "\n",
    "m1c = deepcopy(m1).state_dict()\n",
    "# m2c = m2.state_dict()\n",
    "m1.learn(x,y)\n",
    "# m2.learn(x,y)\n"
   ]
  },
  {
   "cell_type": "code",
   "execution_count": 2,
   "metadata": {
    "collapsed": true,
    "jupyter": {
     "outputs_hidden": true
    },
    "tags": []
   },
   "outputs": [
    {
     "name": "stdout",
     "output_type": "stream",
     "text": [
      "False\n",
      "False\n",
      "False\n",
      "False\n",
      "False\n",
      "False\n",
      "False\n",
      "False\n",
      "False\n",
      "False\n",
      "False\n",
      "False\n"
     ]
    }
   ],
   "source": [
    "for key in m1c.keys():\n",
    "  s = m1c[key] == m1.state_dict()[key]\n",
    "  print(np.all(s.numpy().flatten()))"
   ]
  },
  {
   "cell_type": "code",
   "execution_count": 3,
   "metadata": {},
   "outputs": [],
   "source": [
    "from scipy.io import loadmat"
   ]
  },
  {
   "cell_type": "code",
   "execution_count": 68,
   "metadata": {},
   "outputs": [],
   "source": [
    "paths = [\n",
    "  \"experiments/standard_wd/D=4_R=1296_L=1296_LR=0.001_WD=0.001_Term=3_Layers=2_Lam=0.0_E=50000.mat\",\n",
    "  \"experiments/nfc/D=4_R=1296_L=16_Term=1_Layers=2_Lam=0.001.mat-fixed\",\n",
    "]\n",
    "paths2 = [\n",
    "  \"experiments/nfc/D=4_R=1296_L=16_Term=2_Layers=2_Lam=0.001_E=50000.mat-fixed\"\n",
    "]\n"
   ]
  },
  {
   "cell_type": "code",
   "execution_count": 100,
   "metadata": {},
   "outputs": [],
   "source": [
    "def norm(path):\n",
    "  mat = loadmat(path)\n",
    "  W = np.sum(np.power(mat['W_0'], 2))\n",
    "  W += np.sum(np.power(mat['V_0'], 2))\n",
    "  V = np.sum(np.power(mat['W_1'], 2))\n",
    "  V += np.sum(np.power(mat['V_1'], 2))\n",
    "  return W, V\n",
    "\n",
    "def norm2(path):\n",
    "  mat = loadmat(path)\n",
    "  W = np.sum(np.power(mat['W_0'], 2))\n",
    "  W += np.sum(np.power(np.sum(np.abs(mat['V_0']), 0), 2))\n",
    "  V = np.sum(np.power(np.sum(mat['W_1']), 2))\n",
    "  V += np.sum(np.power(np.sum(np.abs(mat['V_1']), 0), 2))\n",
    "  return W, V\n",
    "\n",
    "norms = []\n",
    "norms2 = []"
   ]
  },
  {
   "cell_type": "code",
   "execution_count": 101,
   "metadata": {},
   "outputs": [],
   "source": [
    "for p in paths:\n",
    "  norms.append(norm(p))\n",
    "for p2 in paths2:\n",
    "  norms2.append(norm2(p2))"
   ]
  },
  {
   "cell_type": "code",
   "execution_count": 102,
   "metadata": {},
   "outputs": [
    {
     "name": "stdout",
     "output_type": "stream",
     "text": [
      "experiments/standard_wd/D=4_R=1296_L=1296_LR=0.001_WD=0.001_Term=3_Layers=2_Lam=0.0_E=50000.mat\n",
      "(15.647501, 13.902882)\n",
      "=================\n",
      "experiments/nfc/D=4_R=1296_L=16_Term=1_Layers=2_Lam=0.001.mat-fixed\n",
      "(7.4072237, 8.6176035e-05)\n",
      "=================\n"
     ]
    }
   ],
   "source": [
    "for i in range(len(paths)):\n",
    "  print(paths[i])\n",
    "  print(norms[i])\n",
    "  print(\"=================\")"
   ]
  },
  {
   "cell_type": "code",
   "execution_count": 103,
   "metadata": {},
   "outputs": [
    {
     "name": "stdout",
     "output_type": "stream",
     "text": [
      "experiments/nfc/D=4_R=1296_L=16_Term=2_Layers=2_Lam=0.001_E=50000.mat-fixed\n",
      "(8.418065, 0.1499205881001453)\n",
      "=================\n"
     ]
    }
   ],
   "source": [
    "for i in range(len(paths2)):\n",
    "  print(paths2[i])\n",
    "  print(norms2[i])\n",
    "  print(\"=================\")"
   ]
  },
  {
   "cell_type": "code",
   "execution_count": null,
   "metadata": {},
   "outputs": [],
   "source": []
  }
 ],
 "metadata": {
  "kernelspec": {
   "display_name": "ICML",
   "language": "python",
   "name": "icml"
  },
  "language_info": {
   "codemirror_mode": {
    "name": "ipython",
    "version": 3
   },
   "file_extension": ".py",
   "mimetype": "text/x-python",
   "name": "python",
   "nbconvert_exporter": "python",
   "pygments_lexer": "ipython3",
   "version": "3.8.5"
  }
 },
 "nbformat": 4,
 "nbformat_minor": 4
}
